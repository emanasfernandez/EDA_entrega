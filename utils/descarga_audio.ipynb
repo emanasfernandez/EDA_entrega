{
 "cells": [
  {
   "cell_type": "code",
   "execution_count": null,
   "metadata": {},
   "outputs": [],
   "source": [
    "import os\n",
    "import pandas as pd\n",
    "import librosa\n",
    "import numpy as np\n",
    "import subprocess\n",
    "\n",
    "# Cargar el archivo Excel - el archivo adjuntaba una columna con las direcciones url del audio en Youtube\n",
    "tracks_df = pd.read_excel(\"tracks.xlsx\") # ya no es este\n",
    "\n",
    "# Crear carpetas de destino para los audios y resultados\n",
    "audio_folder = \"audios\"\n",
    "if not os.path.exists(audio_folder):\n",
    "    os.makedirs(audio_folder)\n",
    "\n",
    "# Función para descargar audio de YouTube\n",
    "def download_audio(youtube_url, output_path):\n",
    "    \"\"\"\n",
    "    Descarga el audio de un enlace de YouTube como archivo MP3.\n",
    "    \"\"\"\n",
    "    command = f'yt-dlp -x --audio-format mp3 -o \"{output_path}\" {youtube_url}'\n",
    "    subprocess.run(command, shell=True, check=True)"
   ]
  }
 ],
 "metadata": {
  "language_info": {
   "name": "python"
  }
 },
 "nbformat": 4,
 "nbformat_minor": 2
}
